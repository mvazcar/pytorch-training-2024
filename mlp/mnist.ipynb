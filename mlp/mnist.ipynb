{
 "cells": [
  {
   "cell_type": "markdown",
   "id": "66889c2d-93af-4e21-9516-84e22b932e64",
   "metadata": {},
   "source": [
    "# Image Classification with MNIST Dataset\n",
    "\n",
    "In this Jupyter Notebook, we will explore the task of image classification using the MNIST dataset. The MNIST dataset is a widely-used example in the field of machine learning and computer vision, consisting of a collection of 28x28 grayscale images of handwritten digits (0 through 9). Each image is labeled with the corresponding digit it represents, making it an ideal dataset for training and testing image classification algorithms.\n",
    "\n",
    "In this notebook, we will build and train a multilayer perceptron (MLP).\n",
    "MLP is not the go-to solution for image classification, but we will use it as an example."
   ]
  },
  {
   "cell_type": "code",
   "execution_count": null,
   "id": "4dd06f9c-0af4-4a88-a913-8abfc4f02c91",
   "metadata": {},
   "outputs": [],
   "source": [
    "import matplotlib.pyplot as plt\n",
    "%config InlineBackend.figure_format = 'svg'\n",
    "import torch\n",
    "import torch.nn as nn\n",
    "import torch.nn.functional as F\n",
    "import torch.optim as optim\n",
    "from torchvision import datasets, transforms\n",
    "from torch.utils.data import DataLoader\n",
    "\n",
    "from util import show_sample, show_predictions"
   ]
  },
  {
   "cell_type": "code",
   "execution_count": null,
   "id": "a6296da8-aba0-4882-af92-13c4fdf104c8",
   "metadata": {},
   "outputs": [],
   "source": [
    "device = 0  # the GPU 0"
   ]
  },
  {
   "cell_type": "code",
   "execution_count": null,
   "id": "927a68fa-f089-49ea-aa21-aef5866fb7af",
   "metadata": {},
   "outputs": [],
   "source": [
    "# Define a simple transform\n",
    "transform = transforms.Compose([\n",
    "    transforms.ToTensor(),\n",
    "    transforms.Normalize((0.5,), (0.5,))\n",
    "])"
   ]
  },
  {
   "cell_type": "code",
   "execution_count": null,
   "id": "0b3d42a0-edf2-4a72-9e05-3fafe2be5a6d",
   "metadata": {},
   "outputs": [],
   "source": [
    "# Download MNIST dataset\n",
    "train_dataset = datasets.MNIST(root=\"./data\", train=True,  download=True, transform=transform)\n",
    "test_dataset  = datasets.MNIST(root=\"./data\", train=False, download=True, transform=transform)"
   ]
  },
  {
   "cell_type": "code",
   "execution_count": null,
   "id": "7440c9fb-abcd-465e-a7bb-474a6ef078d6",
   "metadata": {},
   "outputs": [],
   "source": [
    "train_dataset"
   ]
  },
  {
   "cell_type": "code",
   "execution_count": null,
   "id": "278f29e2-9dec-4f63-8f64-186e930d0566",
   "metadata": {},
   "outputs": [],
   "source": [
    "test_dataset"
   ]
  },
  {
   "cell_type": "code",
   "execution_count": null,
   "id": "e4df6b16-2daf-40c0-98c5-e57d4c0c7a15",
   "metadata": {},
   "outputs": [],
   "source": [
    "ex = 50\n",
    "image_ex = train_dataset[ex][0][0]\n",
    "label_ex = train_dataset[ex][1]\n",
    "\n",
    "show_sample(image_ex, label_ex)"
   ]
  },
  {
   "cell_type": "code",
   "execution_count": null,
   "id": "fba0e473-137c-4675-855d-2f73c573494c",
   "metadata": {},
   "outputs": [],
   "source": [
    "train_loader = DataLoader(dataset=train_dataset, batch_size=256, shuffle=True)\n",
    "test_loader  = DataLoader(dataset=test_dataset,  batch_size=512, shuffle=False, drop_last=True)"
   ]
  },
  {
   "cell_type": "code",
   "execution_count": null,
   "id": "b0aa48ed-b3f9-4bc2-a5fc-f2318cd09e4e",
   "metadata": {},
   "outputs": [],
   "source": [
    "# Define the model\n",
    "class MLP(nn.Module):\n",
    "    def __init__(self):\n",
    "        super(MLP, self).__init__()\n",
    "        self.fc1 = nn.Linear(28 * 28, 128)\n",
    "        self.relu1 = nn.ReLU()\n",
    "        self.fc2 = nn.Linear(128, 64)\n",
    "        self.relu2 = nn.ReLU()\n",
    "        self.fc3 = nn.Linear(64, 10)\n",
    "\n",
    "    def forward(self, x):\n",
    "        x = x.view(-1, 28 * 28)  # Flatten input images\n",
    "        x = self.relu1(self.fc1(x))\n",
    "        x = self.relu2(self.fc2(x))\n",
    "        x = self.fc3(x)\n",
    "        return x"
   ]
  },
  {
   "cell_type": "code",
   "execution_count": null,
   "id": "8487844b-1906-458c-8bfd-b4eaeafe720b",
   "metadata": {},
   "outputs": [],
   "source": [
    "model = MLP().to(device)"
   ]
  },
  {
   "cell_type": "code",
   "execution_count": null,
   "id": "40e9b260-c408-4930-a27b-ea61743819ca",
   "metadata": {},
   "outputs": [],
   "source": [
    "crossentropy = nn.CrossEntropyLoss()  # Cross Entropy Loss for classification"
   ]
  },
  {
   "cell_type": "code",
   "execution_count": null,
   "id": "e4c416d6-7c55-49a3-8f51-3d5bbb0b0f8e",
   "metadata": {},
   "outputs": [],
   "source": [
    "# let's try one 10 epochs with lr=0.001 and the 10 more with lr=0.0001\n",
    "optimizer = optim.Adam(model.parameters(), lr=0.001)"
   ]
  },
  {
   "cell_type": "code",
   "execution_count": null,
   "id": "dbd9de22-0da5-4889-80e7-3ced84d17f4a",
   "metadata": {},
   "outputs": [],
   "source": [
    "model.train()"
   ]
  },
  {
   "cell_type": "code",
   "execution_count": null,
   "id": "7981d4de-d4d3-4c95-af3a-d31eedc0ff49",
   "metadata": {},
   "outputs": [],
   "source": [
    "num_epochs = 5                                               #\n",
    "loss_history = []                                            #\n",
    "                                                             #\n",
    "for epoch in range(num_epochs):                              #   loop over epochs:\n",
    "    for imgs, labels in train_loader:                        #       loop over batches:  -> (images, labels)\n",
    "        imgs, labels = imgs.to(device), labels.to(device)    #            * copy batch to the gpu\n",
    "        optimizer.zero_grad()                                #            * reset automatic differentiation record\n",
    "        outputs = model(imgs)                                #            * evaluate the model in a batch\n",
    "        loss = crossentropy(outputs, labels)                 #            * evaluate the loss function with the obtained outputs and labels\n",
    "        loss.backward()                                      #            * backpropagation -> gradients\n",
    "        optimizer.step()                                     #            * update weights with the gradients\n",
    "        # [not part of the traning] keeping values for plotting\n",
    "        loss_history.append(loss.cpu().detach().numpy())\n",
    "\n",
    "    print(f'Epoch [{epoch + 1:2d}/{num_epochs}] Loss {loss:0.4f}')"
   ]
  },
  {
   "cell_type": "code",
   "execution_count": null,
   "id": "c5efa950-90ab-4682-b848-d0c98efea7ed",
   "metadata": {},
   "outputs": [],
   "source": [
    "plt.plot(loss_history, c='red')\n",
    "plt.xlabel('Training steps')\n",
    "plt.ylabel('Loss')\n",
    "plt.grid(ls=':')\n",
    "plt.show()"
   ]
  },
  {
   "cell_type": "code",
   "execution_count": null,
   "id": "9d00df33-e345-4ba3-852e-279e2851b437",
   "metadata": {},
   "outputs": [],
   "source": [
    "# Test the trained model\n",
    "model.eval()\n",
    "correct = 0\n",
    "total = 0\n",
    "\n",
    "with torch.no_grad():\n",
    "    for imgs, labels in test_loader:\n",
    "        imgs, labels = imgs.to(device), labels.to(device)\n",
    "        outputs = model(imgs)\n",
    "        probabilities = F.softmax(outputs, dim=1)\n",
    "        predicted_labels = torch.argmax(probabilities, dim=1)\n",
    "\n",
    "        total += labels.size(0)\n",
    "        correct += (predicted_labels == labels).sum().item()\n",
    "\n",
    "accuracy = correct / total\n",
    "print(f'Test Accuracy: {accuracy * 100:.2f}%')"
   ]
  },
  {
   "cell_type": "code",
   "execution_count": null,
   "id": "e68d3229-d24c-4b6d-af63-6e6592b2fff4",
   "metadata": {},
   "outputs": [],
   "source": [
    "show_predictions(imgs, predicted_labels)"
   ]
  }
 ],
 "metadata": {
  "kernelspec": {
   "display_name": "ml2024",
   "language": "python",
   "name": "ml2024"
  },
  "language_info": {
   "codemirror_mode": {
    "name": "ipython",
    "version": 3
   },
   "file_extension": ".py",
   "mimetype": "text/x-python",
   "name": "python",
   "nbconvert_exporter": "python",
   "pygments_lexer": "ipython3",
   "version": "3.9.4"
  }
 },
 "nbformat": 4,
 "nbformat_minor": 5
}
