{
 "cells": [
  {
   "cell_type": "markdown",
   "id": "0d90abbe-bcf5-482c-9a6a-2b8f074e3753",
   "metadata": {},
   "source": [
    "# Crossentropy\n",
    "\n",
    "## Objective:\n",
    "In this notebook, we explore the relationship between softmax probabilities and crossentropy loss in the context of a classification task. We aim to visually analyze how well our model is predicting class probabilities and how the crossentropy loss reflects the alignment between predicted and true distributions.\n",
    "\n",
    "## Background:\n",
    "In classification problems, the crossentropy loss is a common choice for measuring the dissimilarity between predicted and true probability distributions. For a binary classification scenario, the crossentropy loss (log loss) is calculated as follows:\n",
    "\n",
    "$$\n",
    "\\text{Crossentropy Loss} = - \\sum_{i}^{N} \\left( y_i \\cdot \\log(\\hat{y}_i) + (1 - y_i) \\cdot \\log(1 - \\hat{y}_i) \\right)\n",
    "$$\n",
    "\n",
    "where:\n",
    "- $N$ is the number of classes (2 in binary classification).\n",
    "- $y_i$ is the true probability distribution (1 for the true class, 0 for others).\n",
    "- $\\hat{y}_i$ is the predicted probability for class $i$.\n",
    "\n",
    "We will visualize the softmax probabilities and the corresponding crossentropy loss for each reference class. This allows us to gain insights into how our model is making predictions and which classes contribute the most to the loss."
   ]
  },
  {
   "cell_type": "code",
   "execution_count": null,
   "id": "e5859433-2a19-4868-a618-f63e5bc42d9e",
   "metadata": {},
   "outputs": [],
   "source": [
    "import matplotlib\n",
    "import matplotlib.pyplot as plt\n",
    "%config InlineBackend.figure_format = 'svg'\n",
    "import torch\n",
    "import torch.nn.functional as F"
   ]
  },
  {
   "cell_type": "code",
   "execution_count": null,
   "id": "8a1642c6-c55e-4a11-82a5-f51ec1191534",
   "metadata": {},
   "outputs": [],
   "source": [
    "num_classes = 10  # we have 10 classes"
   ]
  },
  {
   "cell_type": "code",
   "execution_count": null,
   "id": "f41df11b-89ae-4e1f-acaa-426ef5281b79",
   "metadata": {},
   "outputs": [],
   "source": [
    "# Generate random logits:\n",
    "# This normally is the output of the last layer before\n",
    "# the softmax\n",
    "logits = torch.randn((1, num_classes))"
   ]
  },
  {
   "cell_type": "code",
   "execution_count": null,
   "id": "ba03f18c-e136-4806-b10d-8379d3f6fe75",
   "metadata": {},
   "outputs": [],
   "source": [
    "# Define the lost function\n",
    "crossentropy = torch.nn.CrossEntropyLoss()"
   ]
  },
  {
   "cell_type": "code",
   "execution_count": null,
   "id": "99c55f49-3e1d-41ac-8f83-4ad3c762c5f4",
   "metadata": {},
   "outputs": [],
   "source": [
    "# crossentropy loss of the logits we 'obtained\n",
    "# with respect to the class 'Car' which is the 2.\n",
    "car_class = torch.tensor((2,))\n",
    "                               \n",
    "crossentropy(logits, car_class)"
   ]
  },
  {
   "cell_type": "code",
   "execution_count": null,
   "id": "c1628ded-4f4d-48b6-a5db-d5f19175f3e0",
   "metadata": {},
   "outputs": [],
   "source": [
    "# Let's compute the crossentropy of out logits with\n",
    "# respect all the possible classes 0 to 10\n",
    "losses = [crossentropy(logits, torch.tensor((i,))) for i in range(num_classes)]"
   ]
  },
  {
   "cell_type": "code",
   "execution_count": null,
   "id": "e6e2db88-534d-4dc6-abff-0b013328fbf9",
   "metadata": {},
   "outputs": [],
   "source": [
    "losses = torch.tensor(losses)"
   ]
  },
  {
   "cell_type": "code",
   "execution_count": null,
   "id": "68829173-ec81-412c-89da-2c8f611a031c",
   "metadata": {},
   "outputs": [],
   "source": [
    "# Apply softmax\n",
    "probabilities = F.softmax(logits, dim=1)"
   ]
  },
  {
   "cell_type": "code",
   "execution_count": null,
   "id": "f498c985-ca1d-4e55-8f6b-a19288e8d1a4",
   "metadata": {},
   "outputs": [],
   "source": [
    "matplotlib.rcParams['figure.figsize'] = (10, 4)\n",
    "\n",
    "# Plot the original logits and probabilities\n",
    "fig, ax1 = plt.subplots()  # 1, 3, figsize=(10, 4))\n",
    "\n",
    "# Plot original logits\n",
    "ax1.bar( range(num_classes), probabilities.squeeze(), color='deepskyblue', label='probabilities')\n",
    "ax1.bar( range(num_classes), losses / (-num_classes * losses.max()), color='tomato', label='crossentropy (scaled)')\n",
    "ax1.plot(range(num_classes), logits.squeeze()  / (num_classes * torch.abs(logits).max()), '.-', color='k', label='logits (scaled)')\n",
    "ax1.set_xlabel('Class')\n",
    "ax1.set_ylabel('Probabilities')\n",
    "ax1.set_ylim([-0.12 / (0.1 * num_classes), probabilities.max() + (0.01 / (0.1 * num_classes))])\n",
    "ax1.grid(ls=':', alpha=0.5)\n",
    "ax1.legend()\n",
    "\n",
    "plt.show()"
   ]
  }
 ],
 "metadata": {
  "kernelspec": {
   "display_name": "ml2024",
   "language": "python",
   "name": "ml2024"
  },
  "language_info": {
   "codemirror_mode": {
    "name": "ipython",
    "version": 3
   },
   "file_extension": ".py",
   "mimetype": "text/x-python",
   "name": "python",
   "nbconvert_exporter": "python",
   "pygments_lexer": "ipython3",
   "version": "3.9.4"
  }
 },
 "nbformat": 4,
 "nbformat_minor": 5
}
