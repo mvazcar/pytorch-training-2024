{
 "cells": [
  {
   "cell_type": "markdown",
   "id": "380478ca-79e3-49a0-8676-ee8cf2dea112",
   "metadata": {},
   "source": [
    "# BERT Step by Step: Word Embeddings\n",
    "\n",
    "Word embeddings are a fundamental technique in natural language processing that represents words as dense vectors in a continuous vector space, capturing semantic relationships between words.\n",
    "\n",
    "Unlike traditional one-hot encoding, where each word is represented by a sparse binary vector, word embeddings encode semantic meaning and context, allowing algorithms to better understand the relationships between words in a text. Embeddings are learned from large corpora of text data using techniques."
   ]
  },
  {
   "cell_type": "code",
   "execution_count": null,
   "id": "aef9a343-af66-40c2-bbb2-ae0473c41e62",
   "metadata": {},
   "outputs": [],
   "source": [
    "import torch\n",
    "from transformers import AutoConfig, AutoTokenizer\n",
    "from transformers import BertForPreTraining"
   ]
  },
  {
   "cell_type": "code",
   "execution_count": null,
   "id": "40cd3506-1e3c-4cf0-8663-e000df0a6865",
   "metadata": {},
   "outputs": [],
   "source": [
    "model_checkpoint = 'bert-base-uncased'\n",
    "\n",
    "tokenizer = AutoTokenizer.from_pretrained(model_checkpoint)\n",
    "model = BertForPreTraining.from_pretrained(model_checkpoint)\n",
    "config = AutoConfig.from_pretrained(model_checkpoint)"
   ]
  },
  {
   "cell_type": "code",
   "execution_count": null,
   "id": "b87b5c19-faa4-47e5-bb34-f4d607ba26fa",
   "metadata": {},
   "outputs": [],
   "source": [
    "encoding = tokenizer.encode(\"let's tokenize something?\", return_tensors=\"pt\")\n",
    "encoding"
   ]
  },
  {
   "cell_type": "code",
   "execution_count": null,
   "id": "ee421f5c-0ea6-4f77-b15d-82a075a1f9cc",
   "metadata": {},
   "outputs": [],
   "source": [
    "tokens = tokenizer.convert_ids_to_tokens(encoding.flatten())\n",
    "tokens"
   ]
  },
  {
   "cell_type": "code",
   "execution_count": null,
   "id": "82a53c8b-5056-4751-8a49-0273193a0417",
   "metadata": {},
   "outputs": [],
   "source": [
    "model"
   ]
  },
  {
   "cell_type": "code",
   "execution_count": null,
   "id": "6335eded-6900-447f-a760-c0693689b37a",
   "metadata": {},
   "outputs": [],
   "source": [
    "model.bert.embeddings"
   ]
  },
  {
   "cell_type": "code",
   "execution_count": null,
   "id": "6b4d30dd-6f2c-4e6c-9265-8df3da401873",
   "metadata": {},
   "outputs": [],
   "source": [
    "config.vocab_size"
   ]
  },
  {
   "cell_type": "code",
   "execution_count": null,
   "id": "3c7eb092-f6c8-45f1-b960-bf49bb7fad67",
   "metadata": {},
   "outputs": [],
   "source": [
    "config.hidden_size  # dimension of the embeddings"
   ]
  },
  {
   "cell_type": "code",
   "execution_count": null,
   "id": "d5856327-a75e-4e44-8de9-f7b2d64414a1",
   "metadata": {},
   "outputs": [],
   "source": [
    "model.bert.embeddings.word_embeddings   # (vocab_size, hidden_size)"
   ]
  },
  {
   "cell_type": "code",
   "execution_count": null,
   "id": "b5e4ef01-b588-4750-b3a7-82cb25f296b5",
   "metadata": {},
   "outputs": [],
   "source": [
    "seq_embedding = model.bert.embeddings.word_embeddings(encoding)\n",
    "\n",
    "seq_embedding.shape      # (batch_size, seq_len)  -> (batch_size, seq_len, hidden_size)"
   ]
  },
  {
   "cell_type": "code",
   "execution_count": null,
   "id": "9b93d0e0-a4e9-4db7-95e0-dc57c457a9b1",
   "metadata": {},
   "outputs": [],
   "source": [
    "# small experiment with similarities between embeddings\n",
    "\n",
    "queen_token = tokenizer.convert_tokens_to_ids(['queen'])\n",
    "queen_embedding = model.bert.embeddings.word_embeddings(torch.tensor(queen_token))\n",
    "\n",
    "king_token = tokenizer.convert_tokens_to_ids(['king'])\n",
    "king_embedding = model.bert.embeddings.word_embeddings(torch.tensor(king_token))\n",
    "\n",
    "\n",
    "# cosine similarity\n",
    "# queen_embedding @ king_embedding.T / torch.norm(queen_embedding) / torch.norm(king_embedding)\n",
    "cos = torch.nn.CosineSimilarity()\n",
    "\n",
    "cos(queen_embedding, king_embedding)"
   ]
  }
 ],
 "metadata": {
  "kernelspec": {
   "display_name": "ml2024",
   "language": "python",
   "name": "ml2024"
  },
  "language_info": {
   "codemirror_mode": {
    "name": "ipython",
    "version": 3
   },
   "file_extension": ".py",
   "mimetype": "text/x-python",
   "name": "python",
   "nbconvert_exporter": "python",
   "pygments_lexer": "ipython3",
   "version": "3.9.18"
  }
 },
 "nbformat": 4,
 "nbformat_minor": 5
}
